{
 "cells": [
  {
   "cell_type": "code",
   "execution_count": 1,
   "metadata": {},
   "outputs": [],
   "source": [
    "import pandas as pd"
   ]
  },
  {
   "cell_type": "code",
   "execution_count": 2,
   "metadata": {},
   "outputs": [],
   "source": [
    "df = pd.read_csv('C:\\\\Users\\\\shyam\\\\Desktop\\\\Python_Hyderabad_Jobs_10022020_18_38_49.csv')"
   ]
  },
  {
   "cell_type": "code",
   "execution_count": 12,
   "metadata": {},
   "outputs": [
    {
     "data": {
      "text/html": [
       "<div>\n",
       "<style scoped>\n",
       "    .dataframe tbody tr th:only-of-type {\n",
       "        vertical-align: middle;\n",
       "    }\n",
       "\n",
       "    .dataframe tbody tr th {\n",
       "        vertical-align: top;\n",
       "    }\n",
       "\n",
       "    .dataframe thead th {\n",
       "        text-align: right;\n",
       "    }\n",
       "</style>\n",
       "<table border=\"1\" class=\"dataframe\">\n",
       "  <thead>\n",
       "    <tr style=\"text-align: right;\">\n",
       "      <th></th>\n",
       "      <th>Job_Name</th>\n",
       "      <th>Company</th>\n",
       "      <th>Location</th>\n",
       "      <th>Apply_Link</th>\n",
       "      <th>Posted_Date</th>\n",
       "    </tr>\n",
       "  </thead>\n",
       "  <tbody>\n",
       "    <tr>\n",
       "      <th>0</th>\n",
       "      <td>Python Trainer</td>\n",
       "      <td>Focus Training Services</td>\n",
       "      <td>Hyderabad, Telangana</td>\n",
       "      <td>https://www.indeed.co.in/viewjob?jk=fd72d43e5d...</td>\n",
       "      <td>5 days ago</td>\n",
       "    </tr>\n",
       "    <tr>\n",
       "      <th>1</th>\n",
       "      <td>Odoo Developer</td>\n",
       "      <td>Clarion Analytics</td>\n",
       "      <td>Hyderabad, Telangana</td>\n",
       "      <td>https://www.indeed.co.in/viewjob?jk=d388ab8cde...</td>\n",
       "      <td>1 day ago</td>\n",
       "    </tr>\n",
       "    <tr>\n",
       "      <th>2</th>\n",
       "      <td>Faculty For Sofware Courses (Online Or Offline)</td>\n",
       "      <td>Azka Testingdevnets Solutions Pvt Ltd</td>\n",
       "      <td>Hyderabad, Telangana</td>\n",
       "      <td>https://www.indeed.co.in/viewjob?jk=e1937b9bda...</td>\n",
       "      <td>13 days ago</td>\n",
       "    </tr>\n",
       "    <tr>\n",
       "      <th>3</th>\n",
       "      <td>Sr. Python Developer</td>\n",
       "      <td>Conscience Technologies</td>\n",
       "      <td>Hyderabad, Telangana</td>\n",
       "      <td>https://www.indeed.co.in/viewjob?jk=f8259ff0a5...</td>\n",
       "      <td>2 days ago</td>\n",
       "    </tr>\n",
       "    <tr>\n",
       "      <th>4</th>\n",
       "      <td>Java/.Net/Python Freshers Required</td>\n",
       "      <td>Www.Yansisofsol.Com</td>\n",
       "      <td>Hyderabad, Telangana</td>\n",
       "      <td>https://www.indeed.co.in/viewjob?jk=92f85833f7...</td>\n",
       "      <td>15 days ago</td>\n",
       "    </tr>\n",
       "  </tbody>\n",
       "</table>\n",
       "</div>"
      ],
      "text/plain": [
       "                                          Job_Name  \\\n",
       "0                                   Python Trainer   \n",
       "1                                   Odoo Developer   \n",
       "2  Faculty For Sofware Courses (Online Or Offline)   \n",
       "3                             Sr. Python Developer   \n",
       "4               Java/.Net/Python Freshers Required   \n",
       "\n",
       "                                 Company              Location  \\\n",
       "0                Focus Training Services  Hyderabad, Telangana   \n",
       "1                      Clarion Analytics  Hyderabad, Telangana   \n",
       "2  Azka Testingdevnets Solutions Pvt Ltd  Hyderabad, Telangana   \n",
       "3                Conscience Technologies  Hyderabad, Telangana   \n",
       "4                    Www.Yansisofsol.Com  Hyderabad, Telangana   \n",
       "\n",
       "                                          Apply_Link  Posted_Date  \n",
       "0  https://www.indeed.co.in/viewjob?jk=fd72d43e5d...   5 days ago  \n",
       "1  https://www.indeed.co.in/viewjob?jk=d388ab8cde...    1 day ago  \n",
       "2  https://www.indeed.co.in/viewjob?jk=e1937b9bda...  13 days ago  \n",
       "3  https://www.indeed.co.in/viewjob?jk=f8259ff0a5...   2 days ago  \n",
       "4  https://www.indeed.co.in/viewjob?jk=92f85833f7...  15 days ago  "
      ]
     },
     "execution_count": 12,
     "metadata": {},
     "output_type": "execute_result"
    }
   ],
   "source": [
    "df.head()"
   ]
  },
  {
   "cell_type": "code",
   "execution_count": 4,
   "metadata": {},
   "outputs": [
    {
     "data": {
      "text/plain": [
       "(95, 5)"
      ]
     },
     "execution_count": 4,
     "metadata": {},
     "output_type": "execute_result"
    }
   ],
   "source": [
    "df.shape"
   ]
  },
  {
   "cell_type": "code",
   "execution_count": 6,
   "metadata": {},
   "outputs": [
    {
     "name": "stdout",
     "output_type": "stream",
     "text": [
      "<class 'pandas.core.frame.DataFrame'>\n",
      "RangeIndex: 95 entries, 0 to 94\n",
      "Data columns (total 5 columns):\n",
      "Job_Name       95 non-null object\n",
      "Company        95 non-null object\n",
      "Location       95 non-null object\n",
      "Apply_Link     95 non-null object\n",
      "Posted_Date    95 non-null object\n",
      "dtypes: object(5)\n",
      "memory usage: 1.9+ KB\n"
     ]
    }
   ],
   "source": [
    "df.info()"
   ]
  },
  {
   "cell_type": "code",
   "execution_count": 13,
   "metadata": {},
   "outputs": [
    {
     "data": {
      "text/html": [
       "<div>\n",
       "<style scoped>\n",
       "    .dataframe tbody tr th:only-of-type {\n",
       "        vertical-align: middle;\n",
       "    }\n",
       "\n",
       "    .dataframe tbody tr th {\n",
       "        vertical-align: top;\n",
       "    }\n",
       "\n",
       "    .dataframe thead th {\n",
       "        text-align: right;\n",
       "    }\n",
       "</style>\n",
       "<table border=\"1\" class=\"dataframe\">\n",
       "  <thead>\n",
       "    <tr style=\"text-align: right;\">\n",
       "      <th></th>\n",
       "      <th>Job_Name</th>\n",
       "      <th>Company</th>\n",
       "      <th>Location</th>\n",
       "      <th>Apply_Link</th>\n",
       "      <th>Posted_Date</th>\n",
       "    </tr>\n",
       "  </thead>\n",
       "  <tbody>\n",
       "    <tr>\n",
       "      <th>90</th>\n",
       "      <td>Robotics Internship</td>\n",
       "      <td>Alog Tech</td>\n",
       "      <td>Hyderabad, Telangana</td>\n",
       "      <td>https://www.indeed.co.in/viewjob?jk=01316e7bec...</td>\n",
       "      <td>8 days ago</td>\n",
       "    </tr>\n",
       "    <tr>\n",
       "      <th>91</th>\n",
       "      <td>Faculty For Sofware Courses (Online Or Offline)</td>\n",
       "      <td>Azka Testingdevnets Solutions Pvt Ltd</td>\n",
       "      <td>Hyderabad, Telangana</td>\n",
       "      <td>https://www.indeed.co.in/viewjob?jk=e1937b9bda...</td>\n",
       "      <td>13 days ago</td>\n",
       "    </tr>\n",
       "    <tr>\n",
       "      <th>92</th>\n",
       "      <td>R&amp;D Engineer, Ii</td>\n",
       "      <td>Synopsys</td>\n",
       "      <td>Hyderabad, Telangana</td>\n",
       "      <td>https://www.indeed.co.in/viewjob?jk=d0142d1a59...</td>\n",
       "      <td>2 days ago</td>\n",
       "    </tr>\n",
       "    <tr>\n",
       "      <th>93</th>\n",
       "      <td>Backend Developer(Combination Of Server Progra...</td>\n",
       "      <td>Gamenexa Studios</td>\n",
       "      <td>Hyderabad, Telangana</td>\n",
       "      <td>https://www.indeed.co.in/viewjob?jk=7211145232...</td>\n",
       "      <td>18 days ago</td>\n",
       "    </tr>\n",
       "    <tr>\n",
       "      <th>94</th>\n",
       "      <td>Python Trainer</td>\n",
       "      <td>Focus Training Services</td>\n",
       "      <td>Hyderabad, Telangana</td>\n",
       "      <td>https://www.indeed.co.in/viewjob?jk=fd72d43e5d...</td>\n",
       "      <td>5 days ago</td>\n",
       "    </tr>\n",
       "  </tbody>\n",
       "</table>\n",
       "</div>"
      ],
      "text/plain": [
       "                                             Job_Name  \\\n",
       "90                                Robotics Internship   \n",
       "91    Faculty For Sofware Courses (Online Or Offline)   \n",
       "92                                   R&D Engineer, Ii   \n",
       "93  Backend Developer(Combination Of Server Progra...   \n",
       "94                                     Python Trainer   \n",
       "\n",
       "                                  Company              Location  \\\n",
       "90                              Alog Tech  Hyderabad, Telangana   \n",
       "91  Azka Testingdevnets Solutions Pvt Ltd  Hyderabad, Telangana   \n",
       "92                               Synopsys  Hyderabad, Telangana   \n",
       "93                       Gamenexa Studios  Hyderabad, Telangana   \n",
       "94                Focus Training Services  Hyderabad, Telangana   \n",
       "\n",
       "                                           Apply_Link  Posted_Date  \n",
       "90  https://www.indeed.co.in/viewjob?jk=01316e7bec...   8 days ago  \n",
       "91  https://www.indeed.co.in/viewjob?jk=e1937b9bda...  13 days ago  \n",
       "92  https://www.indeed.co.in/viewjob?jk=d0142d1a59...   2 days ago  \n",
       "93  https://www.indeed.co.in/viewjob?jk=7211145232...  18 days ago  \n",
       "94  https://www.indeed.co.in/viewjob?jk=fd72d43e5d...   5 days ago  "
      ]
     },
     "execution_count": 13,
     "metadata": {},
     "output_type": "execute_result"
    }
   ],
   "source": [
    "df.tail()"
   ]
  },
  {
   "cell_type": "code",
   "execution_count": null,
   "metadata": {},
   "outputs": [],
   "source": []
  }
 ],
 "metadata": {
  "kernelspec": {
   "display_name": "Python 3",
   "language": "python",
   "name": "python3"
  },
  "language_info": {
   "codemirror_mode": {
    "name": "ipython",
    "version": 3
   },
   "file_extension": ".py",
   "mimetype": "text/x-python",
   "name": "python",
   "nbconvert_exporter": "python",
   "pygments_lexer": "ipython3",
   "version": "3.7.0"
  }
 },
 "nbformat": 4,
 "nbformat_minor": 2
}
